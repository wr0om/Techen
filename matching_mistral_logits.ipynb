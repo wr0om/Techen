{
 "cells": [
  {
   "cell_type": "code",
   "execution_count": 6,
   "metadata": {},
   "outputs": [],
   "source": [
    "import numpy as np\n",
    "import matplotlib.pyplot as plt\n",
    "import pandas as pd\n",
    "import ast\n",
    "import copy"
   ]
  },
  {
   "cell_type": "code",
   "execution_count": 12,
   "metadata": {},
   "outputs": [],
   "source": [
    "united_divided_mistral_df = pd.read_csv('data/united_divided_with_mistral.csv')"
   ]
  },
  {
   "cell_type": "code",
   "execution_count": 13,
   "metadata": {},
   "outputs": [],
   "source": [
    "united_divided_mistral_df['logits'] = united_divided_mistral_df['logits'].apply(ast.literal_eval)\n",
    "united_divided_mistral_df['mistral_description_logits'] = united_divided_mistral_df['mistral_description_logits'].apply(ast.literal_eval)"
   ]
  },
  {
   "cell_type": "code",
   "execution_count": 14,
   "metadata": {},
   "outputs": [
    {
     "data": {
      "text/html": [
       "<div>\n",
       "<style scoped>\n",
       "    .dataframe tbody tr th:only-of-type {\n",
       "        vertical-align: middle;\n",
       "    }\n",
       "\n",
       "    .dataframe tbody tr th {\n",
       "        vertical-align: top;\n",
       "    }\n",
       "\n",
       "    .dataframe thead th {\n",
       "        text-align: right;\n",
       "    }\n",
       "</style>\n",
       "<table border=\"1\" class=\"dataframe\">\n",
       "  <thead>\n",
       "    <tr style=\"text-align: right;\">\n",
       "      <th></th>\n",
       "      <th>image_link</th>\n",
       "      <th>temperature</th>\n",
       "      <th>description</th>\n",
       "      <th>logits</th>\n",
       "      <th>hallucinations</th>\n",
       "      <th>hedges</th>\n",
       "      <th>probe_1</th>\n",
       "      <th>label_1</th>\n",
       "      <th>pred_1</th>\n",
       "      <th>context_1</th>\n",
       "      <th>...</th>\n",
       "      <th>label_3</th>\n",
       "      <th>pred_3</th>\n",
       "      <th>context_3</th>\n",
       "      <th>probe_4</th>\n",
       "      <th>label_4</th>\n",
       "      <th>pred_4</th>\n",
       "      <th>context_4</th>\n",
       "      <th>group_num</th>\n",
       "      <th>split</th>\n",
       "      <th>mistral_description_logits</th>\n",
       "    </tr>\n",
       "  </thead>\n",
       "  <tbody>\n",
       "    <tr>\n",
       "      <th>0</th>\n",
       "      <td>https://cdn.pixabay.com/photo/2020/10/03/11/08...</td>\n",
       "      <td>0.8</td>\n",
       "      <td>The image features a woman holding out her ha...</td>\n",
       "      <td>[( The, {'The': 0.6002, 'In': 0.3314, 'A': 0.0...</td>\n",
       "      <td>The image features a woman holding out her han...</td>\n",
       "      <td>The image features a woman holding out her han...</td>\n",
       "      <td>There is handbag.</td>\n",
       "      <td>False</td>\n",
       "      <td>0.527317</td>\n",
       "      <td>The image features a woman holding out her ha...</td>\n",
       "      <td>...</td>\n",
       "      <td>False</td>\n",
       "      <td>0.507812</td>\n",
       "      <td>The image features a woman holding out her ha...</td>\n",
       "      <td>The dog is far from the woman.</td>\n",
       "      <td>False</td>\n",
       "      <td>0.766294</td>\n",
       "      <td>The image features a woman holding out her ha...</td>\n",
       "      <td>5</td>\n",
       "      <td>train</td>\n",
       "      <td>[(The, 0.02067417837679386), (image, 0.0003359...</td>\n",
       "    </tr>\n",
       "  </tbody>\n",
       "</table>\n",
       "<p>1 rows × 25 columns</p>\n",
       "</div>"
      ],
      "text/plain": [
       "                                          image_link  temperature  \\\n",
       "0  https://cdn.pixabay.com/photo/2020/10/03/11/08...          0.8   \n",
       "\n",
       "                                         description  \\\n",
       "0   The image features a woman holding out her ha...   \n",
       "\n",
       "                                              logits  \\\n",
       "0  [( The, {'The': 0.6002, 'In': 0.3314, 'A': 0.0...   \n",
       "\n",
       "                                      hallucinations  \\\n",
       "0  The image features a woman holding out her han...   \n",
       "\n",
       "                                              hedges            probe_1  \\\n",
       "0  The image features a woman holding out her han...  There is handbag.   \n",
       "\n",
       "   label_1    pred_1                                          context_1  ...  \\\n",
       "0    False  0.527317   The image features a woman holding out her ha...  ...   \n",
       "\n",
       "  label_3    pred_3                                          context_3  \\\n",
       "0   False  0.507812   The image features a woman holding out her ha...   \n",
       "\n",
       "                          probe_4 label_4    pred_4  \\\n",
       "0  The dog is far from the woman.   False  0.766294   \n",
       "\n",
       "                                           context_4 group_num  split  \\\n",
       "0   The image features a woman holding out her ha...         5  train   \n",
       "\n",
       "                          mistral_description_logits  \n",
       "0  [(The, 0.02067417837679386), (image, 0.0003359...  \n",
       "\n",
       "[1 rows x 25 columns]"
      ]
     },
     "execution_count": 14,
     "metadata": {},
     "output_type": "execute_result"
    }
   ],
   "source": [
    "united_divided_mistral_df.head(1)"
   ]
  },
  {
   "cell_type": "code",
   "execution_count": 18,
   "metadata": {},
   "outputs": [],
   "source": [
    "def compare_mistral_and_llava(row_idx):\n",
    "    mistral = united_divided_mistral_df['mistral_description_logits'][row_idx].copy()\n",
    "    llava = [(token.strip(), dic[token.strip()]) for token, dic in united_divided_mistral_df['logits'][row_idx]]\n",
    "    print(f\"mistral len: {len(mistral)}, llava len: {len(llava)}\")\n",
    "    mistral += [('ADDED',0)] * (len(llava) - len(mistral))\n",
    "    llava += [('ADDED',0)] * (len(mistral) - len(llava))\n",
    "\n",
    "    for m, l in zip(mistral, llava):\n",
    "        print(f\"{m},{l}\")"
   ]
  },
  {
   "cell_type": "code",
   "execution_count": 25,
   "metadata": {},
   "outputs": [
    {
     "data": {
      "text/plain": [
       "'<0x0A>The image captures a charming scene on a street where three buildings are prominently visible. The building on the left is a vibrant yellow, with a \"HOTEL\" sign on its facade, indicating its function. Adjacent to it on the right is a building with a terracotta-colored facade. This building is a salon, as suggested by the \"Salon de The\" sign. <0x0A><0x0A>The salon has blue shutters, adding a pop of color to its facade. The building in the middle, a pink-colored one, is a restaurant, as indicated by the \"Restaurant Buffet\" sign. The name \"Le Colendal\" is also visible on this'"
      ]
     },
     "execution_count": 25,
     "metadata": {},
     "output_type": "execute_result"
    }
   ],
   "source": [
    "united_divided_mistral_df[\"description\"][66]"
   ]
  },
  {
   "cell_type": "code",
   "execution_count": 29,
   "metadata": {},
   "outputs": [
    {
     "ename": "KeyError",
     "evalue": "'image'",
     "output_type": "error",
     "traceback": [
      "\u001b[1;31m---------------------------------------------------------------------------\u001b[0m",
      "\u001b[1;31mKeyError\u001b[0m                                  Traceback (most recent call last)",
      "Cell \u001b[1;32mIn[29], line 1\u001b[0m\n\u001b[1;32m----> 1\u001b[0m \u001b[43mcompare_mistral_and_llava\u001b[49m\u001b[43m(\u001b[49m\u001b[38;5;241;43m63\u001b[39;49m\u001b[43m)\u001b[49m\n",
      "Cell \u001b[1;32mIn[18], line 3\u001b[0m, in \u001b[0;36mcompare_mistral_and_llava\u001b[1;34m(row_idx)\u001b[0m\n\u001b[0;32m      1\u001b[0m \u001b[38;5;28;01mdef\u001b[39;00m \u001b[38;5;21mcompare_mistral_and_llava\u001b[39m(row_idx):\n\u001b[0;32m      2\u001b[0m     mistral \u001b[38;5;241m=\u001b[39m united_divided_mistral_df[\u001b[38;5;124m'\u001b[39m\u001b[38;5;124mmistral_description_logits\u001b[39m\u001b[38;5;124m'\u001b[39m][row_idx]\u001b[38;5;241m.\u001b[39mcopy()\n\u001b[1;32m----> 3\u001b[0m     llava \u001b[38;5;241m=\u001b[39m \u001b[43m[\u001b[49m\u001b[43m(\u001b[49m\u001b[43mtoken\u001b[49m\u001b[38;5;241;43m.\u001b[39;49m\u001b[43mstrip\u001b[49m\u001b[43m(\u001b[49m\u001b[43m)\u001b[49m\u001b[43m,\u001b[49m\u001b[43m \u001b[49m\u001b[43mdic\u001b[49m\u001b[43m[\u001b[49m\u001b[43mtoken\u001b[49m\u001b[38;5;241;43m.\u001b[39;49m\u001b[43mstrip\u001b[49m\u001b[43m(\u001b[49m\u001b[43m)\u001b[49m\u001b[43m]\u001b[49m\u001b[43m)\u001b[49m\u001b[43m \u001b[49m\u001b[38;5;28;43;01mfor\u001b[39;49;00m\u001b[43m \u001b[49m\u001b[43mtoken\u001b[49m\u001b[43m,\u001b[49m\u001b[43m \u001b[49m\u001b[43mdic\u001b[49m\u001b[43m \u001b[49m\u001b[38;5;129;43;01min\u001b[39;49;00m\u001b[43m \u001b[49m\u001b[43munited_divided_mistral_df\u001b[49m\u001b[43m[\u001b[49m\u001b[38;5;124;43m'\u001b[39;49m\u001b[38;5;124;43mlogits\u001b[39;49m\u001b[38;5;124;43m'\u001b[39;49m\u001b[43m]\u001b[49m\u001b[43m[\u001b[49m\u001b[43mrow_idx\u001b[49m\u001b[43m]\u001b[49m\u001b[43m]\u001b[49m\n\u001b[0;32m      4\u001b[0m     \u001b[38;5;28mprint\u001b[39m(\u001b[38;5;124mf\u001b[39m\u001b[38;5;124m\"\u001b[39m\u001b[38;5;124mmistral len: \u001b[39m\u001b[38;5;132;01m{\u001b[39;00m\u001b[38;5;28mlen\u001b[39m(mistral)\u001b[38;5;132;01m}\u001b[39;00m\u001b[38;5;124m, llava len: \u001b[39m\u001b[38;5;132;01m{\u001b[39;00m\u001b[38;5;28mlen\u001b[39m(llava)\u001b[38;5;132;01m}\u001b[39;00m\u001b[38;5;124m\"\u001b[39m)\n\u001b[0;32m      5\u001b[0m     mistral \u001b[38;5;241m+\u001b[39m\u001b[38;5;241m=\u001b[39m [(\u001b[38;5;124m'\u001b[39m\u001b[38;5;124mADDED\u001b[39m\u001b[38;5;124m'\u001b[39m,\u001b[38;5;241m0\u001b[39m)] \u001b[38;5;241m*\u001b[39m (\u001b[38;5;28mlen\u001b[39m(llava) \u001b[38;5;241m-\u001b[39m \u001b[38;5;28mlen\u001b[39m(mistral))\n",
      "Cell \u001b[1;32mIn[18], line 3\u001b[0m, in \u001b[0;36m<listcomp>\u001b[1;34m(.0)\u001b[0m\n\u001b[0;32m      1\u001b[0m \u001b[38;5;28;01mdef\u001b[39;00m \u001b[38;5;21mcompare_mistral_and_llava\u001b[39m(row_idx):\n\u001b[0;32m      2\u001b[0m     mistral \u001b[38;5;241m=\u001b[39m united_divided_mistral_df[\u001b[38;5;124m'\u001b[39m\u001b[38;5;124mmistral_description_logits\u001b[39m\u001b[38;5;124m'\u001b[39m][row_idx]\u001b[38;5;241m.\u001b[39mcopy()\n\u001b[1;32m----> 3\u001b[0m     llava \u001b[38;5;241m=\u001b[39m [(token\u001b[38;5;241m.\u001b[39mstrip(), \u001b[43mdic\u001b[49m\u001b[43m[\u001b[49m\u001b[43mtoken\u001b[49m\u001b[38;5;241;43m.\u001b[39;49m\u001b[43mstrip\u001b[49m\u001b[43m(\u001b[49m\u001b[43m)\u001b[49m\u001b[43m]\u001b[49m) \u001b[38;5;28;01mfor\u001b[39;00m token, dic \u001b[38;5;129;01min\u001b[39;00m united_divided_mistral_df[\u001b[38;5;124m'\u001b[39m\u001b[38;5;124mlogits\u001b[39m\u001b[38;5;124m'\u001b[39m][row_idx]]\n\u001b[0;32m      4\u001b[0m     \u001b[38;5;28mprint\u001b[39m(\u001b[38;5;124mf\u001b[39m\u001b[38;5;124m\"\u001b[39m\u001b[38;5;124mmistral len: \u001b[39m\u001b[38;5;132;01m{\u001b[39;00m\u001b[38;5;28mlen\u001b[39m(mistral)\u001b[38;5;132;01m}\u001b[39;00m\u001b[38;5;124m, llava len: \u001b[39m\u001b[38;5;132;01m{\u001b[39;00m\u001b[38;5;28mlen\u001b[39m(llava)\u001b[38;5;132;01m}\u001b[39;00m\u001b[38;5;124m\"\u001b[39m)\n\u001b[0;32m      5\u001b[0m     mistral \u001b[38;5;241m+\u001b[39m\u001b[38;5;241m=\u001b[39m [(\u001b[38;5;124m'\u001b[39m\u001b[38;5;124mADDED\u001b[39m\u001b[38;5;124m'\u001b[39m,\u001b[38;5;241m0\u001b[39m)] \u001b[38;5;241m*\u001b[39m (\u001b[38;5;28mlen\u001b[39m(llava) \u001b[38;5;241m-\u001b[39m \u001b[38;5;28mlen\u001b[39m(mistral))\n",
      "\u001b[1;31mKeyError\u001b[0m: 'image'"
     ]
    }
   ],
   "source": [
    "compare_mistral_and_llava(63)"
   ]
  }
 ],
 "metadata": {
  "kernelspec": {
   "display_name": "ML2",
   "language": "python",
   "name": "python3"
  },
  "language_info": {
   "codemirror_mode": {
    "name": "ipython",
    "version": 3
   },
   "file_extension": ".py",
   "mimetype": "text/x-python",
   "name": "python",
   "nbconvert_exporter": "python",
   "pygments_lexer": "ipython3",
   "version": "3.11.7"
  }
 },
 "nbformat": 4,
 "nbformat_minor": 2
}
